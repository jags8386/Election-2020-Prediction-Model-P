{
 "cells": [
  {
   "cell_type": "code",
   "execution_count": 2,
   "metadata": {},
   "outputs": [],
   "source": [
    "import pandas as pd\n",
    "import numpy as np\n"
   ]
  },
  {
   "cell_type": "code",
   "execution_count": 3,
   "metadata": {},
   "outputs": [],
   "source": [
    "df = pd.read_csv('../data/raw/1976-2016-president.csv')"
   ]
  },
  {
   "cell_type": "code",
   "execution_count": 4,
   "metadata": {},
   "outputs": [],
   "source": [
    "df = df[(df['year'] == 2004) | (df['year'] == 2008) | (df['year'] == 2012) | (df['year'] == 2016)]"
   ]
  },
  {
   "cell_type": "code",
   "execution_count": 5,
   "metadata": {},
   "outputs": [],
   "source": [
    "df = df[(df['party'] == 'republican') | (df['party'] == 'democrat')]"
   ]
  },
  {
   "cell_type": "code",
   "execution_count": 6,
   "metadata": {},
   "outputs": [],
   "source": [
    "df = df[['year', 'state_po', 'party', 'candidatevotes']]"
   ]
  },
  {
   "cell_type": "code",
   "execution_count": 7,
   "metadata": {},
   "outputs": [
    {
     "data": {
      "text/html": [
       "<div>\n",
       "<style scoped>\n",
       "    .dataframe tbody tr th:only-of-type {\n",
       "        vertical-align: middle;\n",
       "    }\n",
       "\n",
       "    .dataframe tbody tr th {\n",
       "        vertical-align: top;\n",
       "    }\n",
       "\n",
       "    .dataframe thead th {\n",
       "        text-align: right;\n",
       "    }\n",
       "</style>\n",
       "<table border=\"1\" class=\"dataframe\">\n",
       "  <thead>\n",
       "    <tr style=\"text-align: right;\">\n",
       "      <th></th>\n",
       "      <th>year</th>\n",
       "      <th>state_po</th>\n",
       "      <th>party</th>\n",
       "      <th>candidatevotes</th>\n",
       "    </tr>\n",
       "  </thead>\n",
       "  <tbody>\n",
       "    <tr>\n",
       "      <th>2411</th>\n",
       "      <td>2004</td>\n",
       "      <td>AL</td>\n",
       "      <td>republican</td>\n",
       "      <td>1176394</td>\n",
       "    </tr>\n",
       "    <tr>\n",
       "      <th>2412</th>\n",
       "      <td>2004</td>\n",
       "      <td>AL</td>\n",
       "      <td>democrat</td>\n",
       "      <td>693933</td>\n",
       "    </tr>\n",
       "    <tr>\n",
       "      <th>2415</th>\n",
       "      <td>2004</td>\n",
       "      <td>AK</td>\n",
       "      <td>republican</td>\n",
       "      <td>190889</td>\n",
       "    </tr>\n",
       "    <tr>\n",
       "      <th>2416</th>\n",
       "      <td>2004</td>\n",
       "      <td>AK</td>\n",
       "      <td>democrat</td>\n",
       "      <td>111025</td>\n",
       "    </tr>\n",
       "    <tr>\n",
       "      <th>2422</th>\n",
       "      <td>2004</td>\n",
       "      <td>AZ</td>\n",
       "      <td>republican</td>\n",
       "      <td>1104294</td>\n",
       "    </tr>\n",
       "  </tbody>\n",
       "</table>\n",
       "</div>"
      ],
      "text/plain": [
       "      year state_po       party  candidatevotes\n",
       "2411  2004       AL  republican         1176394\n",
       "2412  2004       AL    democrat          693933\n",
       "2415  2004       AK  republican          190889\n",
       "2416  2004       AK    democrat          111025\n",
       "2422  2004       AZ  republican         1104294"
      ]
     },
     "execution_count": 7,
     "metadata": {},
     "output_type": "execute_result"
    }
   ],
   "source": [
    "df.head()"
   ]
  },
  {
   "cell_type": "code",
   "execution_count": 9,
   "metadata": {},
   "outputs": [],
   "source": [
    "df_2004 = df[df['year'] == 2004][['state_po', 'party', 'candidatevotes']]\n",
    "df_2004 = df_2004.pivot_table(index='state_po', columns = 'party', values = 'candidatevotes').reset_index()\n",
    "df_2004['year'] = 2004\n",
    "df_2004['winner'] = df_2004.apply(lambda x : 1 if x['republican'] > x['democrat'] else 0, axis=1)\n",
    "df_2004= df_2004.drop(['democrat', 'republican'], axis=1)"
   ]
  },
  {
   "cell_type": "code",
   "execution_count": 10,
   "metadata": {},
   "outputs": [],
   "source": [
    "df_2008 = df[df['year'] == 2008][['state_po', 'party', 'candidatevotes']]\n",
    "df_2008 = df_2008.pivot_table(index='state_po', columns = 'party', values = 'candidatevotes').reset_index()\n",
    "df_2008['year'] = 2008\n",
    "df_2008['winner'] = df_2008.apply(lambda x : 1 if x['republican'] > x['democrat'] else 0, axis=1)\n",
    "df_2008= df_2008.drop(['democrat', 'republican'], axis=1)"
   ]
  },
  {
   "cell_type": "code",
   "execution_count": 11,
   "metadata": {},
   "outputs": [],
   "source": [
    "df_2012 = df[df['year'] == 2012][['state_po', 'party', 'candidatevotes']]\n",
    "df_2012 = df_2012.pivot_table(index='state_po', columns = 'party', values = 'candidatevotes').reset_index()\n",
    "df_2012['year'] = 2012\n",
    "df_2012['winner'] = df_2012.apply(lambda x : 1 if x['republican'] > x['democrat'] else 0, axis=1)\n",
    "df_2012= df_2012.drop(['democrat', 'republican'], axis=1)"
   ]
  },
  {
   "cell_type": "code",
   "execution_count": 12,
   "metadata": {},
   "outputs": [],
   "source": [
    "df_2016 = df[df['year'] == 2016][['state_po', 'party', 'candidatevotes']]\n",
    "df_2016 = df_2016.pivot_table(index='state_po', columns = 'party', values = 'candidatevotes').reset_index()\n",
    "df_2016['year'] = 2016\n",
    "df_2016['winner'] = df_2016.apply(lambda x : 1 if x['republican'] > x['democrat'] else 0, axis=1)\n",
    "df_2016= df_2016.drop(['democrat', 'republican'], axis=1)"
   ]
  },
  {
   "cell_type": "code",
   "execution_count": 13,
   "metadata": {},
   "outputs": [],
   "source": [
    "df_combined = pd.concat([ df_2004, df_2008, df_2012, df_2016])"
   ]
  },
  {
   "cell_type": "code",
   "execution_count": 14,
   "metadata": {},
   "outputs": [
    {
     "data": {
      "text/plain": [
       "(204, 3)"
      ]
     },
     "execution_count": 14,
     "metadata": {},
     "output_type": "execute_result"
    }
   ],
   "source": [
    "df_combined.shape"
   ]
  },
  {
   "cell_type": "code",
   "execution_count": 15,
   "metadata": {},
   "outputs": [],
   "source": [
    "df_combined.to_csv('../data/processed/actual_election_result.csv', index=False)"
   ]
  },
  {
   "cell_type": "code",
   "execution_count": null,
   "metadata": {},
   "outputs": [],
   "source": []
  }
 ],
 "metadata": {
  "kernelspec": {
   "display_name": "Python 3",
   "language": "python",
   "name": "python3"
  },
  "language_info": {
   "codemirror_mode": {
    "name": "ipython",
    "version": 3
   },
   "file_extension": ".py",
   "mimetype": "text/x-python",
   "name": "python",
   "nbconvert_exporter": "python",
   "pygments_lexer": "ipython3",
   "version": "3.8.3"
  }
 },
 "nbformat": 4,
 "nbformat_minor": 4
}
