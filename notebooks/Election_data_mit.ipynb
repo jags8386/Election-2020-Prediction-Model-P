{
 "cells": [
  {
   "cell_type": "code",
   "execution_count": 1,
   "metadata": {},
   "outputs": [],
   "source": [
    "import pandas as pd\n",
    "import numpy as np\n"
   ]
  },
  {
   "cell_type": "code",
   "execution_count": 4,
   "metadata": {},
   "outputs": [],
   "source": [
    "df = pd.read_csv('../data/raw/1976-2016-president.csv')"
   ]
  },
  {
   "cell_type": "code",
   "execution_count": 5,
   "metadata": {},
   "outputs": [],
   "source": [
    "df = df[(df['year'] == 2000) | (df['year'] == 2004) | (df['year'] == 2008) | (df['year'] == 2012) | (df['year'] == 2016)]"
   ]
  },
  {
   "cell_type": "code",
   "execution_count": 6,
   "metadata": {},
   "outputs": [],
   "source": [
    "df = df[(df['party'] == 'republican') | (df['party'] == 'democrat')]"
   ]
  },
  {
   "cell_type": "code",
   "execution_count": 7,
   "metadata": {},
   "outputs": [],
   "source": [
    "df = df[['year', 'state_po', 'party', 'candidatevotes']]"
   ]
  },
  {
   "cell_type": "code",
   "execution_count": 8,
   "metadata": {},
   "outputs": [
    {
     "data": {
      "text/html": [
       "<div>\n",
       "<style scoped>\n",
       "    .dataframe tbody tr th:only-of-type {\n",
       "        vertical-align: middle;\n",
       "    }\n",
       "\n",
       "    .dataframe tbody tr th {\n",
       "        vertical-align: top;\n",
       "    }\n",
       "\n",
       "    .dataframe thead th {\n",
       "        text-align: right;\n",
       "    }\n",
       "</style>\n",
       "<table border=\"1\" class=\"dataframe\">\n",
       "  <thead>\n",
       "    <tr style=\"text-align: right;\">\n",
       "      <th></th>\n",
       "      <th>year</th>\n",
       "      <th>state_po</th>\n",
       "      <th>party</th>\n",
       "      <th>candidatevotes</th>\n",
       "    </tr>\n",
       "  </thead>\n",
       "  <tbody>\n",
       "    <tr>\n",
       "      <th>2042</th>\n",
       "      <td>2000</td>\n",
       "      <td>AL</td>\n",
       "      <td>republican</td>\n",
       "      <td>941173</td>\n",
       "    </tr>\n",
       "    <tr>\n",
       "      <th>2043</th>\n",
       "      <td>2000</td>\n",
       "      <td>AL</td>\n",
       "      <td>democrat</td>\n",
       "      <td>692611</td>\n",
       "    </tr>\n",
       "    <tr>\n",
       "      <th>2047</th>\n",
       "      <td>2000</td>\n",
       "      <td>AK</td>\n",
       "      <td>republican</td>\n",
       "      <td>167398</td>\n",
       "    </tr>\n",
       "    <tr>\n",
       "      <th>2048</th>\n",
       "      <td>2000</td>\n",
       "      <td>AK</td>\n",
       "      <td>democrat</td>\n",
       "      <td>79004</td>\n",
       "    </tr>\n",
       "    <tr>\n",
       "      <th>2055</th>\n",
       "      <td>2000</td>\n",
       "      <td>AZ</td>\n",
       "      <td>republican</td>\n",
       "      <td>781652</td>\n",
       "    </tr>\n",
       "  </tbody>\n",
       "</table>\n",
       "</div>"
      ],
      "text/plain": [
       "      year state_po       party  candidatevotes\n",
       "2042  2000       AL  republican          941173\n",
       "2043  2000       AL    democrat          692611\n",
       "2047  2000       AK  republican          167398\n",
       "2048  2000       AK    democrat           79004\n",
       "2055  2000       AZ  republican          781652"
      ]
     },
     "execution_count": 8,
     "metadata": {},
     "output_type": "execute_result"
    }
   ],
   "source": [
    "df.head()"
   ]
  },
  {
   "cell_type": "code",
   "execution_count": 9,
   "metadata": {},
   "outputs": [],
   "source": [
    "df_2000 = df[df['year'] == 2000][['state_po', 'party', 'candidatevotes']]\n",
    "df_2000 = df_2000.pivot_table(index='state_po', columns = 'party', values = 'candidatevotes').reset_index()\n",
    "df_2000['year'] = 2004\n",
    "df_2000['winner'] = df_2000.apply(lambda x : 1 if x['republican'] > x['democrat'] else 0, axis=1)\n",
    "df_2000= df_2000.drop(['democrat', 'republican'], axis=1)"
   ]
  },
  {
   "cell_type": "code",
   "execution_count": 10,
   "metadata": {},
   "outputs": [],
   "source": [
    "df_2004 = df[df['year'] == 2004][['state_po', 'party', 'candidatevotes']]\n",
    "df_2004 = df_2004.pivot_table(index='state_po', columns = 'party', values = 'candidatevotes').reset_index()\n",
    "df_2004['year'] = 2008\n",
    "df_2004['winner'] = df_2004.apply(lambda x : 1 if x['republican'] > x['democrat'] else 0, axis=1)\n",
    "df_2004= df_2004.drop(['democrat', 'republican'], axis=1)"
   ]
  },
  {
   "cell_type": "code",
   "execution_count": 11,
   "metadata": {},
   "outputs": [],
   "source": [
    "df_2008 = df[df['year'] == 2008][['state_po', 'party', 'candidatevotes']]\n",
    "df_2008 = df_2008.pivot_table(index='state_po', columns = 'party', values = 'candidatevotes').reset_index()\n",
    "df_2008['year'] = 2012\n",
    "df_2008['winner'] = df_2008.apply(lambda x : 1 if x['republican'] > x['democrat'] else 0, axis=1)\n",
    "df_2008= df_2008.drop(['democrat', 'republican'], axis=1)"
   ]
  },
  {
   "cell_type": "code",
   "execution_count": 12,
   "metadata": {},
   "outputs": [],
   "source": [
    "df_2012 = df[df['year'] == 2012][['state_po', 'party', 'candidatevotes']]\n",
    "df_2012 = df_2012.pivot_table(index='state_po', columns = 'party', values = 'candidatevotes').reset_index()\n",
    "df_2012['year'] = 2016\n",
    "df_2012['winner'] = df_2012.apply(lambda x : 1 if x['republican'] > x['democrat'] else 0, axis=1)\n",
    "df_2012= df_2012.drop(['democrat', 'republican'], axis=1)"
   ]
  },
  {
   "cell_type": "code",
   "execution_count": 13,
   "metadata": {},
   "outputs": [],
   "source": [
    "df_2016 = df[df['year'] == 2016][['state_po', 'party', 'candidatevotes']]\n",
    "df_2016 = df_2016.pivot_table(index='state_po', columns = 'party', values = 'candidatevotes').reset_index()\n",
    "df_2016['year'] = 2020\n",
    "df_2016['winner'] = df_2016.apply(lambda x : 1 if x['republican'] > x['democrat'] else 0, axis=1)\n",
    "df_2016= df_2016.drop(['democrat', 'republican'], axis=1)"
   ]
  },
  {
   "cell_type": "code",
   "execution_count": 14,
   "metadata": {},
   "outputs": [],
   "source": [
    "df_combined = pd.concat([df_2000, df_2004, df_2008, df_2012, df_2016])"
   ]
  },
  {
   "cell_type": "code",
   "execution_count": 15,
   "metadata": {},
   "outputs": [
    {
     "data": {
      "text/plain": [
       "(255, 3)"
      ]
     },
     "execution_count": 15,
     "metadata": {},
     "output_type": "execute_result"
    }
   ],
   "source": [
    "df_combined.shape"
   ]
  },
  {
   "cell_type": "code",
   "execution_count": 16,
   "metadata": {},
   "outputs": [],
   "source": [
    "df_combined.to_csv('../data/processed/previous_year_result.csv', index=False)"
   ]
  },
  {
   "cell_type": "code",
   "execution_count": null,
   "metadata": {},
   "outputs": [],
   "source": []
  }
 ],
 "metadata": {
  "kernelspec": {
   "display_name": "Python 3",
   "language": "python",
   "name": "python3"
  },
  "language_info": {
   "codemirror_mode": {
    "name": "ipython",
    "version": 3
   },
   "file_extension": ".py",
   "mimetype": "text/x-python",
   "name": "python",
   "nbconvert_exporter": "python",
   "pygments_lexer": "ipython3",
   "version": "3.8.3"
  }
 },
 "nbformat": 4,
 "nbformat_minor": 4
}
