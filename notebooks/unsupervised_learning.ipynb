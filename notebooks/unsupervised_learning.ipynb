{
 "cells": [
  {
   "cell_type": "code",
   "execution_count": 103,
   "metadata": {},
   "outputs": [],
   "source": [
    "import pandas as pd\n",
    "import numpy as np\n",
    "\n",
    "import matplotlib.pyplot as plt\n",
    "import seaborn as sns\n",
    "\n",
    "from sklearn.linear_model import LogisticRegression\n",
    "from sklearn.ensemble import RandomForestClassifier\n",
    "from xgboost import XGBClassifier\n",
    "from sklearn.metrics import accuracy_score, confusion_matrix, roc_curve, auc\n",
    "from sklearn.manifold import TSNE\n",
    "from sklearn.cluster import KMeans\n",
    "\n",
    "pd.set_option('display.max_columns', 500)\n",
    "pd.set_option('display.max_rows', 500)"
   ]
  },
  {
   "cell_type": "code",
   "execution_count": 104,
   "metadata": {},
   "outputs": [],
   "source": [
    "states_ev = pd.read_csv('../data/raw/states_ev.csv')"
   ]
  },
  {
   "cell_type": "code",
   "execution_count": 105,
   "metadata": {},
   "outputs": [],
   "source": [
    "df = pd.read_csv('../data/processed/data from 2004 to 2016.csv')\n",
    "df = df.drop('last_election', axis=1)\n",
    "df = df[df.year == 2016]\n",
    "non_numeric = ['winner', 'year']\n",
    "df_numeric = df.drop(non_numeric, axis=1)"
   ]
  },
  {
   "cell_type": "code",
   "execution_count": 106,
   "metadata": {},
   "outputs": [],
   "source": [
    "states = df_numeric['state']\n",
    "samples = df_numeric.drop('state', axis=1)"
   ]
  },
  {
   "cell_type": "code",
   "execution_count": 113,
   "metadata": {},
   "outputs": [],
   "source": [
    "# Perform the necessary imports\n",
    "from sklearn.pipeline import make_pipeline\n",
    "from sklearn.preprocessing import StandardScaler\n",
    "from sklearn.cluster import KMeans\n",
    "\n",
    "# Import Normalizer\n",
    "from sklearn.preprocessing import Normalizer\n",
    "\n",
    "# Create a normalizer: normalizer\n",
    "normalizer = Normalizer()\n",
    "\n",
    "# Create a KMeans model with 10 clusters: kmeans\n",
    "kmeans = KMeans(n_clusters=12)\n",
    "\n",
    "# Make a pipeline chaining normalizer and kmeans: pipeline\n",
    "pipeline = make_pipeline(normalizer, kmeans)\n",
    "\n",
    "# Fit pipeline to the daily price movements\n"
   ]
  },
  {
   "cell_type": "code",
   "execution_count": 115,
   "metadata": {
    "scrolled": false
   },
   "outputs": [],
   "source": [
    "# Import pandas\n",
    "import pandas as pd\n",
    "\n",
    "# Fit the pipeline to samples\n",
    "pipeline.fit(samples)\n",
    "\n",
    "# Calculate the cluster labels: labels\n",
    "labels = pipeline.predict(samples)\n",
    "\n",
    "# Create a DataFrame with labels and species as columns: df\n",
    "df = pd.DataFrame({'labels': labels, 'states':states})\n",
    "\n"
   ]
  },
  {
   "cell_type": "code",
   "execution_count": 120,
   "metadata": {},
   "outputs": [
    {
     "data": {
      "text/plain": [
       "{1: ['AK', 'IN', 'KS', 'MO', 'TX', 'UT'],\n",
       " 9: ['AL', 'AR', 'KY', 'MT', 'NE', 'SD', 'TN'],\n",
       " 7: ['AZ', 'FL', 'IA', 'NC', 'NV', 'OH'],\n",
       " 8: ['CA', 'MA', 'NY'],\n",
       " 2: ['CO', 'ME', 'MI', 'MN', 'NH', 'NM', 'OR', 'PA', 'WI'],\n",
       " 3: ['CT', 'DE', 'IL', 'NJ', 'RI', 'VA', 'WA'],\n",
       " 10: ['DC'],\n",
       " 5: ['GA', 'LA', 'MS', 'SC'],\n",
       " 4: ['HI'],\n",
       " 6: ['ID', 'ND', 'OK', 'WV', 'WY'],\n",
       " 0: ['MD'],\n",
       " 11: ['VT']}"
      ]
     },
     "execution_count": 120,
     "metadata": {},
     "output_type": "execute_result"
    }
   ],
   "source": [
    "similar_states = {}\n",
    "for index, row in df.iterrows():\n",
    "    if row['labels'] in similar_states.keys():\n",
    "        similar_states[row['labels']].append(row['states'])\n",
    "    else:\n",
    "        similar_states[row['labels']] = [row['states']]\n",
    "\n",
    "similar_states"
   ]
  },
  {
   "cell_type": "code",
   "execution_count": null,
   "metadata": {},
   "outputs": [],
   "source": []
  },
  {
   "cell_type": "code",
   "execution_count": null,
   "metadata": {},
   "outputs": [],
   "source": []
  },
  {
   "cell_type": "code",
   "execution_count": null,
   "metadata": {},
   "outputs": [],
   "source": []
  },
  {
   "cell_type": "code",
   "execution_count": 41,
   "metadata": {
    "scrolled": false
   },
   "outputs": [],
   "source": [
    "# non_numeric = ['winner', 'year']\n",
    "# df_numeric = df.drop(non_numeric, axis=1)\n",
    "# cor_mat = df_numeric.cov().abs()\n",
    "# mask = np.triu(np.ones_like(cor_mat, dtype=bool))\n",
    "# plt.subplots(figsize = (15,6))\n",
    "# sns.heatmap(cor_mat, mask=mask, cmap='coolwarm', center=0, linewidths=1, annot=True, fmt=\".4f\")\n",
    "# plt.show()"
   ]
  },
  {
   "cell_type": "code",
   "execution_count": null,
   "metadata": {},
   "outputs": [],
   "source": []
  }
 ],
 "metadata": {
  "kernelspec": {
   "display_name": "Python 3",
   "language": "python",
   "name": "python3"
  },
  "language_info": {
   "codemirror_mode": {
    "name": "ipython",
    "version": 3
   },
   "file_extension": ".py",
   "mimetype": "text/x-python",
   "name": "python",
   "nbconvert_exporter": "python",
   "pygments_lexer": "ipython3",
   "version": "3.8.3"
  }
 },
 "nbformat": 4,
 "nbformat_minor": 4
}
